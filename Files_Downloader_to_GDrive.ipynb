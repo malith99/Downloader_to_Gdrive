{
  "nbformat": 4,
  "nbformat_minor": 0,
  "metadata": {
    "colab": {
      "provenance": []
    },
    "kernelspec": {
      "name": "python3",
      "display_name": "Python 3"
    },
    "language_info": {
      "name": "python"
    }
  },
  "cells": [
    {
      "cell_type": "code",
      "execution_count": 37,
      "metadata": {
        "colab": {
          "base_uri": "https://localhost:8080/"
        },
        "id": "-Nr4NHsv8WYX",
        "outputId": "394252a2-16b7-4d00-8c04-a56840f1c9a4"
      },
      "outputs": [
        {
          "output_type": "stream",
          "name": "stdout",
          "text": [
            "Drive already mounted at /content/drive; to attempt to forcibly remount, call drive.mount(\"/content/drive\", force_remount=True).\n"
          ]
        }
      ],
      "source": [
        "from google.colab import drive\n",
        "drive.mount('/content/drive')"
      ]
    },
    {
      "cell_type": "code",
      "source": [
        "url = input (\"Enter Link :\") \n"
      ],
      "metadata": {
        "colab": {
          "base_uri": "https://localhost:8080/"
        },
        "id": "Uw4S-jGgGDrc",
        "outputId": "398584d1-bab6-4e78-c226-cfa741800113"
      },
      "execution_count": 42,
      "outputs": [
        {
          "name": "stdout",
          "output_type": "stream",
          "text": [
            "Enter Link :https://d.cd013.workers.dev/1:/Movies/2021-10-19/CineSubz.com%20-Geetha%20Govindam%20(2018)%20Telugu%20Proper%20480p%20HDRip.mp4\n"
          ]
        }
      ]
    },
    {
      "cell_type": "code",
      "source": [
        "url"
      ],
      "metadata": {
        "colab": {
          "base_uri": "https://localhost:8080/",
          "height": 35
        },
        "id": "wawSs0P7G8rQ",
        "outputId": "7ef524bd-5fd9-4be5-d30e-f5ba1c4469c8"
      },
      "execution_count": 43,
      "outputs": [
        {
          "output_type": "execute_result",
          "data": {
            "text/plain": [
              "'https://d.cd013.workers.dev/1:/Movies/2021-10-19/CineSubz.com%20-Geetha%20Govindam%20(2018)%20Telugu%20Proper%20480p%20HDRip.mp4'"
            ],
            "application/vnd.google.colaboratory.intrinsic+json": {
              "type": "string"
            }
          },
          "metadata": {},
          "execution_count": 43
        }
      ]
    },
    {
      "cell_type": "code",
      "source": [
        "!pip install pydub\n",
        "from google.colab import drive\n",
        "import os\n",
        "\n",
        "\n",
        "drive.mount('/content/gdrive') \n",
        "\n",
        "try:\n",
        "    os.mkdir(\"/content/gdrive/My Drive/File_Downloader\")\n",
        "except:\n",
        "    print(\"File_Downloader Folder is Created\")\n",
        "    os.chdir(\"/content/gdrive/My Drive/File_Downloader\")\n",
        "    os.system('wget %s' %url)\n",
        "    print(\"file is downloading\")\n"
      ],
      "metadata": {
        "colab": {
          "base_uri": "https://localhost:8080/"
        },
        "id": "cBlIN25rIMxA",
        "outputId": "63f95f0e-c6b6-4dcc-ec99-6d5dfbda6f8e"
      },
      "execution_count": 44,
      "outputs": [
        {
          "output_type": "stream",
          "name": "stdout",
          "text": [
            "Looking in indexes: https://pypi.org/simple, https://us-python.pkg.dev/colab-wheels/public/simple/\n",
            "Requirement already satisfied: pydub in /usr/local/lib/python3.7/dist-packages (0.25.1)\n",
            "Mounted at /content/gdrive\n",
            "File_Downloader Folder is Created\n",
            "file is downloading\n"
          ]
        }
      ]
    },
    {
      "cell_type": "code",
      "source": [
        "!pip install pydub\n",
        "from google.colab import drive\n",
        "import os\n",
        "\n",
        "\n",
        "drive.mount('/content/gdrive') \n",
        "\n",
        "try:\n",
        "    os.mkdir(\"/content/gdrive/My Drive/File_Downloader\")\n",
        "except:\n",
        "    print(\"File_Downloader Folder is Created\")\n",
        "    os.chdir(\"/content/gdrive/My Drive/File_Downloader\")\n",
        "\n",
        "    !wget -c 'manually paste yourlink here if not work' --no-check-certificate"
      ],
      "metadata": {
        "id": "mQ4euE-AP8rk"
      },
      "execution_count": null,
      "outputs": []
    },
    {
      "cell_type": "code",
      "source": [],
      "metadata": {
        "id": "ItzIGlim9Zbh"
      },
      "execution_count": null,
      "outputs": []
    }
  ]
}